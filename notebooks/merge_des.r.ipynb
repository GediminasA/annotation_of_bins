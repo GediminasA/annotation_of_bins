{
 "cells": [
  {
   "cell_type": "code",
   "execution_count": null,
   "id": "0c340907",
   "metadata": {},
   "outputs": [],
   "source": [
    "library(data.table)\n",
    "library(dplyr)\n",
    "library(tidyr)"
   ]
  },
  {
   "cell_type": "code",
   "execution_count": null,
   "id": "b6ad1cab-b16a-49b4-ab42-764bb069644c",
   "metadata": {},
   "outputs": [],
   "source": [
    "dfs <- lapply(snakemake@input$des,\n",
    "       function(x){\n",
    "           df <- fread(x) %>%\n",
    "               select(qpid, desc, genename, val_avg, jac_avg) %>%\n",
    "               mutate(\n",
    "                    qpid = as.character(qpid),\n",
    "                    `PANNZER desc. ` = as.character(desc),\n",
    "                    `PANNZER genename` = as.character(genename),\n",
    "                    val_avg=as.numeric(val_avg),\n",
    "                    jac_avg = as.numeric(jac_avg)\n",
    "               ) %>%\n",
    "               select(-desc, -genename)\n",
    "           return(df)\n",
    "           # print(names(x))\n",
    "       }\n",
    "    \n",
    ")"
   ]
  },
  {
   "cell_type": "code",
   "execution_count": null,
   "id": "7e01a75c-9008-4c06-9083-61304426b3c0",
   "metadata": {},
   "outputs": [],
   "source": [
    "dfs2 <- bind_rows(dfs) %>%\n",
    "    group_by(qpid) %>%\n",
    "    arrange(-val_avg, -jac_avg, .by_group = T) %>%\n",
    "    slice_head(n=1) %>%\n",
    "    ungroup()\n",
    "dfs2"
   ]
  },
  {
   "cell_type": "code",
   "execution_count": null,
   "id": "81e4aaae-495a-4c7d-a12b-8d1b9c03fc76",
   "metadata": {},
   "outputs": [],
   "source": [
    "# Load the data.table package\n",
    "library(data.table)\n",
    "\n",
    "# Define the file path\n",
    "file_path <- snakemake@input$pro\n",
    "\n",
    "# Read the entire file as a single column per line\n",
    "data <- fread(file_path, header = FALSE, sep = \"\\n\", col.names = \"line\")\n",
    "\n",
    "# Directly create the qpid and remaining columns by finding the first space and splitting the string\n",
    "data[, qpid := substr(line, 1, regexpr(\" \", line) - 1)]\n",
    "data[, remaining := substr(line, regexpr(\" \", line) + 1, nchar(line))]\n",
    "\n",
    "# Remove the original 'line' column\n",
    "data[, line := NULL]\n",
    "\n",
    "data <- data %>%\n",
    "    rename(`PROKKA desc` = remaining)"
   ]
  },
  {
   "cell_type": "code",
   "execution_count": null,
   "id": "b91e05f6-5b28-4fe8-a54e-6d5646367c51",
   "metadata": {},
   "outputs": [],
   "source": [
    "dfso <- data %>%\n",
    "    mutate(qpid = sub(\">\",\"\",qpid)) %>%\n",
    "    left_join(dfs2, by = \"qpid\") %>%\n",
    "    select(-val_avg, -jac_avg)\n",
    "    \n",
    "fwrite(x = dfso, file = snakemake@output[[1]])"
   ]
  }
 ],
 "metadata": {
  "kernelspec": {
   "display_name": "R",
   "language": "R",
   "name": "ir"
  },
  "language_info": {
   "codemirror_mode": "r",
   "file_extension": ".r",
   "mimetype": "text/x-r-source",
   "name": "R",
   "pygments_lexer": "r",
   "version": "4.3.3"
  }
 },
 "nbformat": 4,
 "nbformat_minor": 5
}
